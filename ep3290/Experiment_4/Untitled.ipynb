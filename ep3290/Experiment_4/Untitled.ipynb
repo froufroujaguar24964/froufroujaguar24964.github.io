{
 "cells": [
  {
   "cell_type": "code",
   "execution_count": 1,
   "id": "a91a806f-5118-4123-9547-e018af32bcbf",
   "metadata": {},
   "outputs": [],
   "source": [
    "import numpy as np\n",
    "import matplotlib.pyplot as plt"
   ]
  },
  {
   "cell_type": "code",
   "execution_count": 2,
   "id": "040d2137-fe3b-40e6-96cf-4155b1dfb19f",
   "metadata": {},
   "outputs": [
    {
     "name": "stdin",
     "output_type": "stream",
     "text": [
      " 1.2 1.4 1.6 1.8 2 2.1 2.2 2.3 2.4 2.5 2.6 2.7 2.8 2.9 3 3.2 3.4 3.6 3.8 4\n"
     ]
    }
   ],
   "source": [
    "fre = input().split()\n",
    "fre = [float(f) for f in fre]\n",
    "freq = np.array(fre)"
   ]
  },
  {
   "cell_type": "code",
   "execution_count": 3,
   "id": "9c8636ce-7f86-4caf-a6a3-e035b40a8ced",
   "metadata": {
    "tags": []
   },
   "outputs": [
    {
     "name": "stdin",
     "output_type": "stream",
     "text": [
      " 4.8 6.4 8.2 12.8 20 20.2 5.4 3.2 2.16 1.62 1.42 1.26 1.14 1.04 0.94 0.84 0.78 0.72 0.68 0.62\n"
     ]
    },
    {
     "data": {
      "text/plain": [
       "array([ 4.8 ,  6.4 ,  8.2 , 12.8 , 20.  , 20.2 ,  5.4 ,  3.2 ,  2.16,\n",
       "        1.62,  1.42,  1.26,  1.14,  1.04,  0.94,  0.84,  0.78,  0.72,\n",
       "        0.68,  0.62])"
      ]
     },
     "execution_count": 3,
     "metadata": {},
     "output_type": "execute_result"
    }
   ],
   "source": [
    "lp = input().split()\n",
    "lp = np.array([float(l) for l in lp])\n",
    "lp"
   ]
  },
  {
   "cell_type": "code",
   "execution_count": 4,
   "id": "d1edf2be-efb5-42f6-96b7-715f7ee0b6fc",
   "metadata": {},
   "outputs": [
    {
     "name": "stdin",
     "output_type": "stream",
     "text": [
      " 0.4 1 3 7.4 18.6 19.8 9.52 7.68 6.52 6.28 6.12 6.2 6.08 5.96 5.88 5.76 5.68 5.6 5.56 5.56\n"
     ]
    },
    {
     "data": {
      "text/plain": [
       "array([ 0.4 ,  1.  ,  3.  ,  7.4 , 18.6 , 19.8 ,  9.52,  7.68,  6.52,\n",
       "        6.28,  6.12,  6.2 ,  6.08,  5.96,  5.88,  5.76,  5.68,  5.6 ,\n",
       "        5.56,  5.56])"
      ]
     },
     "execution_count": 4,
     "metadata": {},
     "output_type": "execute_result"
    }
   ],
   "source": [
    "hp = input().split()\n",
    "hp = np.array([float(l) for l in hp])\n",
    "hp"
   ]
  },
  {
   "cell_type": "code",
   "execution_count": 5,
   "id": "88ccce00-1840-4733-9a66-2b8297331769",
   "metadata": {},
   "outputs": [
    {
     "name": "stdin",
     "output_type": "stream",
     "text": [
      " 0.8 2.2 4 8.4 15.4 19.2 6.4 4.2 3.6 2.6 2.6 2.4 2.2 2.2 2 2 1.82 1.74 1.66 1.58\n"
     ]
    },
    {
     "data": {
      "text/plain": [
       "array([ 0.8 ,  2.2 ,  4.  ,  8.4 , 15.4 , 19.2 ,  6.4 ,  4.2 ,  3.6 ,\n",
       "        2.6 ,  2.6 ,  2.4 ,  2.2 ,  2.2 ,  2.  ,  2.  ,  1.82,  1.74,\n",
       "        1.66,  1.58])"
      ]
     },
     "execution_count": 5,
     "metadata": {},
     "output_type": "execute_result"
    }
   ],
   "source": [
    "bp = input().split()\n",
    "bp = np.array([float(l) for l in bp])\n",
    "bp"
   ]
  },
  {
   "cell_type": "code",
   "execution_count": 6,
   "id": "229f8416-e436-4800-a4cb-e73e5a1e610a",
   "metadata": {},
   "outputs": [],
   "source": [
    "lpg = lp/3\n",
    "hpg = hp/3\n",
    "bpg = bp/3"
   ]
  },
  {
   "cell_type": "code",
   "execution_count": 21,
   "id": "57e1903d-b3da-4ea2-a7d2-8d3f631f67aa",
   "metadata": {},
   "outputs": [
    {
     "data": {
      "image/png": "[encoded data removed]",
      "text/plain": [
       "<Figure size 432x288 with 1 Axes>"
      ]
     },
     "metadata": {
      "needs_background": "light"
     },
     "output_type": "display_data"
    }
   ],
   "source": [
    "plt.plot(freq,lpg,'r',label='Low Pass')\n",
    "plt.plot(freq,hpg,'b',label='High Pass')\n",
    "plt.plot(freq,bpg,'g',label='Band Pass')\n",
    "plt.legend()\n",
    "plt.title('')\n",
    "plt.show()"
   ]
  },
  {
   "cell_type": "code",
   "execution_count": 8,
   "id": "2164b7f9-f7a7-45bb-a6c0-8f1e3b1eead1",
   "metadata": {},
   "outputs": [
    {
     "ename": "ModuleNotFoundError",
     "evalue": "No module named 'pandas'",
     "output_type": "error",
     "traceback": [
      "\u001b[0;31m---------------------------------------------------------------------------\u001b[0m",
      "\u001b[0;31mModuleNotFoundError\u001b[0m                       Traceback (most recent call last)",
      "Input \u001b[0;32mIn [8]\u001b[0m, in \u001b[0;36m<cell line: 1>\u001b[0;34m()\u001b[0m\n\u001b[0;32m----> 1\u001b[0m \u001b[38;5;28;01mimport\u001b[39;00m \u001b[38;5;21;01mpandas\u001b[39;00m \u001b[38;5;28;01mas\u001b[39;00m \u001b[38;5;21;01mpd\u001b[39;00m\n",
      "\u001b[0;31mModuleNotFoundError\u001b[0m: No module named 'pandas'"
     ]
    }
   ],
   "source": [
    "import pandas as pd"
   ]
  },
  {
   "cell_type": "code",
   "execution_count": 9,
   "id": "10932b80-14d8-4f44-9806-11504025435c",
   "metadata": {},
   "outputs": [
    {
     "name": "stdout",
     "output_type": "stream",
     "text": [
      "Collecting pandas\n",
      "  Downloading pandas-1.4.3-cp310-cp310-macosx_11_0_arm64.whl (10.4 MB)\n",
      "\u001b[2K     \u001b[90m━━━━━━━━━━━━━━━━━━━━━━━━━━━━━━━━━━━━━━━━\u001b[0m \u001b[32m10.4/10.4 MB\u001b[0m \u001b[31m20.8 MB/s\u001b[0m eta \u001b[36m0:00:00\u001b[0m00:01\u001b[0m0:01\u001b[0m\n",
      "\u001b[?25hRequirement already satisfied: numpy>=1.21.0 in /Library/Frameworks/Python.framework/Versions/3.10/lib/python3.10/site-packages (from pandas) (1.22.4)\n",
      "Requirement already satisfied: pytz>=2020.1 in /Library/Frameworks/Python.framework/Versions/3.10/lib/python3.10/site-packages (from pandas) (2022.1)\n",
      "Requirement already satisfied: python-dateutil>=2.8.1 in /Library/Frameworks/Python.framework/Versions/3.10/lib/python3.10/site-packages (from pandas) (2.8.2)\n",
      "Requirement already satisfied: six>=1.5 in /Library/Frameworks/Python.framework/Versions/3.10/lib/python3.10/site-packages (from python-dateutil>=2.8.1->pandas) (1.16.0)\n",
      "Installing collected packages: pandas\n",
      "Successfully installed pandas-1.4.3\n",
      "\u001b[33mWARNING: There was an error checking the latest version of pip.\u001b[0m\u001b[33m\n",
      "\u001b[0m"
     ]
    }
   ],
   "source": [
    "!pip install pandas\n"
   ]
  },
  {
   "cell_type": "code",
   "execution_count": 10,
   "id": "4d0eba4c-e9b9-4d62-9c2d-93ed5eeb9a0d",
   "metadata": {},
   "outputs": [],
   "source": [
    "import pandas as pd"
   ]
  },
  {
   "cell_type": "code",
   "execution_count": 15,
   "id": "aef2c37f-3e29-486e-ad3a-b50436060143",
   "metadata": {},
   "outputs": [],
   "source": [
    "df = {\"Frequency\":freq,\"$V_{OUT}$Low Pass\":lp,\"Gain Low Pass\":lpg,\"$V_{OUT}$High Pass\":hp,\"Gain High Pass\":hpg,\"$V_{OUT}$Band Pass\":bp,\"Gain Band Pass\":bpg}"
   ]
  },
  {
   "cell_type": "code",
   "execution_count": 16,
   "id": "a50e1771-a1f2-42e8-9b32-3858c0d35a3e",
   "metadata": {},
   "outputs": [
    {
     "data": {
      "text/plain": [
       "{'Frequency': array([1.2, 1.4, 1.6, 1.8, 2. , 2.1, 2.2, 2.3, 2.4, 2.5, 2.6, 2.7, 2.8,\n",
       "        2.9, 3. , 3.2, 3.4, 3.6, 3.8, 4. ]),\n",
       " '$V_{OUT}$Low Pass': array([ 4.8 ,  6.4 ,  8.2 , 12.8 , 20.  , 20.2 ,  5.4 ,  3.2 ,  2.16,\n",
       "         1.62,  1.42,  1.26,  1.14,  1.04,  0.94,  0.84,  0.78,  0.72,\n",
       "         0.68,  0.62]),\n",
       " 'Gain Low Pass': array([1.6       , 2.13333333, 2.73333333, 4.26666667, 6.66666667,\n",
       "        6.73333333, 1.8       , 1.06666667, 0.72      , 0.54      ,\n",
       "        0.47333333, 0.42      , 0.38      , 0.34666667, 0.31333333,\n",
       "        0.28      , 0.26      , 0.24      , 0.22666667, 0.20666667]),\n",
       " '$V_{OUT}$High Pass': array([ 0.4 ,  1.  ,  3.  ,  7.4 , 18.6 , 19.8 ,  9.52,  7.68,  6.52,\n",
       "         6.28,  6.12,  6.2 ,  6.08,  5.96,  5.88,  5.76,  5.68,  5.6 ,\n",
       "         5.56,  5.56]),\n",
       " 'Gain High Pass': array([0.13333333, 0.33333333, 1.        , 2.46666667, 6.2       ,\n",
       "        6.6       , 3.17333333, 2.56      , 2.17333333, 2.09333333,\n",
       "        2.04      , 2.06666667, 2.02666667, 1.98666667, 1.96      ,\n",
       "        1.92      , 1.89333333, 1.86666667, 1.85333333, 1.85333333]),\n",
       " '$V_{OUT}$Band Pass': array([ 0.8 ,  2.2 ,  4.  ,  8.4 , 15.4 , 19.2 ,  6.4 ,  4.2 ,  3.6 ,\n",
       "         2.6 ,  2.6 ,  2.4 ,  2.2 ,  2.2 ,  2.  ,  2.  ,  1.82,  1.74,\n",
       "         1.66,  1.58]),\n",
       " 'Gain Band Pass': array([0.26666667, 0.73333333, 1.33333333, 2.8       , 5.13333333,\n",
       "        6.4       , 2.13333333, 1.4       , 1.2       , 0.86666667,\n",
       "        0.86666667, 0.8       , 0.73333333, 0.73333333, 0.66666667,\n",
       "        0.66666667, 0.60666667, 0.58      , 0.55333333, 0.52666667])}"
      ]
     },
     "execution_count": 16,
     "metadata": {},
     "output_type": "execute_result"
    }
   ],
   "source": [
    "df"
   ]
  },
  {
   "cell_type": "code",
   "execution_count": 17,
   "id": "0e82ab53-b5a0-4510-942a-4af4740a36f9",
   "metadata": {},
   "outputs": [
    {
     "data": {
      "text/html": [
       "<div>\n",
       "<style scoped>\n",
       "    .dataframe tbody tr th:only-of-type {\n",
       "        vertical-align: middle;\n",
       "    }\n",
       "\n",
       "    .dataframe tbody tr th {\n",
       "        vertical-align: top;\n",
       "    }\n",
       "\n",
       "    .dataframe thead th {\n",
       "        text-align: right;\n",
       "    }\n",
       "</style>\n",
       "<table border=\"1\" class=\"dataframe\">\n",
       "  <thead>\n",
       "    <tr style=\"text-align: right;\">\n",
       "      <th></th>\n",
       "      <th>Frequency</th>\n",
       "      <th>$V_{OUT}$Low Pass</th>\n",
       "      <th>Gain Low Pass</th>\n",
       "      <th>$V_{OUT}$High Pass</th>\n",
       "      <th>Gain High Pass</th>\n",
       "      <th>$V_{OUT}$Band Pass</th>\n",
       "      <th>Gain Band Pass</th>\n",
       "    </tr>\n",
       "  </thead>\n",
       "  <tbody>\n",
       "    <tr>\n",
       "      <th>0</th>\n",
       "      <td>1.2</td>\n",
       "      <td>4.80</td>\n",
       "      <td>1.600000</td>\n",
       "      <td>0.40</td>\n",
       "      <td>0.133333</td>\n",
       "      <td>0.80</td>\n",
       "      <td>0.266667</td>\n",
       "    </tr>\n",
       "    <tr>\n",
       "      <th>1</th>\n",
       "      <td>1.4</td>\n",
       "      <td>6.40</td>\n",
       "      <td>2.133333</td>\n",
       "      <td>1.00</td>\n",
       "      <td>0.333333</td>\n",
       "      <td>2.20</td>\n",
       "      <td>0.733333</td>\n",
       "    </tr>\n",
       "    <tr>\n",
       "      <th>2</th>\n",
       "      <td>1.6</td>\n",
       "      <td>8.20</td>\n",
       "      <td>2.733333</td>\n",
       "      <td>3.00</td>\n",
       "      <td>1.000000</td>\n",
       "      <td>4.00</td>\n",
       "      <td>1.333333</td>\n",
       "    </tr>\n",
       "    <tr>\n",
       "      <th>3</th>\n",
       "      <td>1.8</td>\n",
       "      <td>12.80</td>\n",
       "      <td>4.266667</td>\n",
       "      <td>7.40</td>\n",
       "      <td>2.466667</td>\n",
       "      <td>8.40</td>\n",
       "      <td>2.800000</td>\n",
       "    </tr>\n",
       "    <tr>\n",
       "      <th>4</th>\n",
       "      <td>2.0</td>\n",
       "      <td>20.00</td>\n",
       "      <td>6.666667</td>\n",
       "      <td>18.60</td>\n",
       "      <td>6.200000</td>\n",
       "      <td>15.40</td>\n",
       "      <td>5.133333</td>\n",
       "    </tr>\n",
       "    <tr>\n",
       "      <th>5</th>\n",
       "      <td>2.1</td>\n",
       "      <td>20.20</td>\n",
       "      <td>6.733333</td>\n",
       "      <td>19.80</td>\n",
       "      <td>6.600000</td>\n",
       "      <td>19.20</td>\n",
       "      <td>6.400000</td>\n",
       "    </tr>\n",
       "    <tr>\n",
       "      <th>6</th>\n",
       "      <td>2.2</td>\n",
       "      <td>5.40</td>\n",
       "      <td>1.800000</td>\n",
       "      <td>9.52</td>\n",
       "      <td>3.173333</td>\n",
       "      <td>6.40</td>\n",
       "      <td>2.133333</td>\n",
       "    </tr>\n",
       "    <tr>\n",
       "      <th>7</th>\n",
       "      <td>2.3</td>\n",
       "      <td>3.20</td>\n",
       "      <td>1.066667</td>\n",
       "      <td>7.68</td>\n",
       "      <td>2.560000</td>\n",
       "      <td>4.20</td>\n",
       "      <td>1.400000</td>\n",
       "    </tr>\n",
       "    <tr>\n",
       "      <th>8</th>\n",
       "      <td>2.4</td>\n",
       "      <td>2.16</td>\n",
       "      <td>0.720000</td>\n",
       "      <td>6.52</td>\n",
       "      <td>2.173333</td>\n",
       "      <td>3.60</td>\n",
       "      <td>1.200000</td>\n",
       "    </tr>\n",
       "    <tr>\n",
       "      <th>9</th>\n",
       "      <td>2.5</td>\n",
       "      <td>1.62</td>\n",
       "      <td>0.540000</td>\n",
       "      <td>6.28</td>\n",
       "      <td>2.093333</td>\n",
       "      <td>2.60</td>\n",
       "      <td>0.866667</td>\n",
       "    </tr>\n",
       "    <tr>\n",
       "      <th>10</th>\n",
       "      <td>2.6</td>\n",
       "      <td>1.42</td>\n",
       "      <td>0.473333</td>\n",
       "      <td>6.12</td>\n",
       "      <td>2.040000</td>\n",
       "      <td>2.60</td>\n",
       "      <td>0.866667</td>\n",
       "    </tr>\n",
       "    <tr>\n",
       "      <th>11</th>\n",
       "      <td>2.7</td>\n",
       "      <td>1.26</td>\n",
       "      <td>0.420000</td>\n",
       "      <td>6.20</td>\n",
       "      <td>2.066667</td>\n",
       "      <td>2.40</td>\n",
       "      <td>0.800000</td>\n",
       "    </tr>\n",
       "    <tr>\n",
       "      <th>12</th>\n",
       "      <td>2.8</td>\n",
       "      <td>1.14</td>\n",
       "      <td>0.380000</td>\n",
       "      <td>6.08</td>\n",
       "      <td>2.026667</td>\n",
       "      <td>2.20</td>\n",
       "      <td>0.733333</td>\n",
       "    </tr>\n",
       "    <tr>\n",
       "      <th>13</th>\n",
       "      <td>2.9</td>\n",
       "      <td>1.04</td>\n",
       "      <td>0.346667</td>\n",
       "      <td>5.96</td>\n",
       "      <td>1.986667</td>\n",
       "      <td>2.20</td>\n",
       "      <td>0.733333</td>\n",
       "    </tr>\n",
       "    <tr>\n",
       "      <th>14</th>\n",
       "      <td>3.0</td>\n",
       "      <td>0.94</td>\n",
       "      <td>0.313333</td>\n",
       "      <td>5.88</td>\n",
       "      <td>1.960000</td>\n",
       "      <td>2.00</td>\n",
       "      <td>0.666667</td>\n",
       "    </tr>\n",
       "    <tr>\n",
       "      <th>15</th>\n",
       "      <td>3.2</td>\n",
       "      <td>0.84</td>\n",
       "      <td>0.280000</td>\n",
       "      <td>5.76</td>\n",
       "      <td>1.920000</td>\n",
       "      <td>2.00</td>\n",
       "      <td>0.666667</td>\n",
       "    </tr>\n",
       "    <tr>\n",
       "      <th>16</th>\n",
       "      <td>3.4</td>\n",
       "      <td>0.78</td>\n",
       "      <td>0.260000</td>\n",
       "      <td>5.68</td>\n",
       "      <td>1.893333</td>\n",
       "      <td>1.82</td>\n",
       "      <td>0.606667</td>\n",
       "    </tr>\n",
       "    <tr>\n",
       "      <th>17</th>\n",
       "      <td>3.6</td>\n",
       "      <td>0.72</td>\n",
       "      <td>0.240000</td>\n",
       "      <td>5.60</td>\n",
       "      <td>1.866667</td>\n",
       "      <td>1.74</td>\n",
       "      <td>0.580000</td>\n",
       "    </tr>\n",
       "    <tr>\n",
       "      <th>18</th>\n",
       "      <td>3.8</td>\n",
       "      <td>0.68</td>\n",
       "      <td>0.226667</td>\n",
       "      <td>5.56</td>\n",
       "      <td>1.853333</td>\n",
       "      <td>1.66</td>\n",
       "      <td>0.553333</td>\n",
       "    </tr>\n",
       "    <tr>\n",
       "      <th>19</th>\n",
       "      <td>4.0</td>\n",
       "      <td>0.62</td>\n",
       "      <td>0.206667</td>\n",
       "      <td>5.56</td>\n",
       "      <td>1.853333</td>\n",
       "      <td>1.58</td>\n",
       "      <td>0.526667</td>\n",
       "    </tr>\n",
       "  </tbody>\n",
       "</table>\n",
       "</div>"
      ],
      "text/plain": [
       "    Frequency  $V_{OUT}$Low Pass  Gain Low Pass  $V_{OUT}$High Pass  \\\n",
       "0         1.2               4.80       1.600000                0.40   \n",
       "1         1.4               6.40       2.133333                1.00   \n",
       "2         1.6               8.20       2.733333                3.00   \n",
       "3         1.8              12.80       4.266667                7.40   \n",
       "4         2.0              20.00       6.666667               18.60   \n",
       "5         2.1              20.20       6.733333               19.80   \n",
       "6         2.2               5.40       1.800000                9.52   \n",
       "7         2.3               3.20       1.066667                7.68   \n",
       "8         2.4               2.16       0.720000                6.52   \n",
       "9         2.5               1.62       0.540000                6.28   \n",
       "10        2.6               1.42       0.473333                6.12   \n",
       "11        2.7               1.26       0.420000                6.20   \n",
       "12        2.8               1.14       0.380000                6.08   \n",
       "13        2.9               1.04       0.346667                5.96   \n",
       "14        3.0               0.94       0.313333                5.88   \n",
       "15        3.2               0.84       0.280000                5.76   \n",
       "16        3.4               0.78       0.260000                5.68   \n",
       "17        3.6               0.72       0.240000                5.60   \n",
       "18        3.8               0.68       0.226667                5.56   \n",
       "19        4.0               0.62       0.206667                5.56   \n",
       "\n",
       "    Gain High Pass  $V_{OUT}$Band Pass  Gain Band Pass  \n",
       "0         0.133333                0.80        0.266667  \n",
       "1         0.333333                2.20        0.733333  \n",
       "2         1.000000                4.00        1.333333  \n",
       "3         2.466667                8.40        2.800000  \n",
       "4         6.200000               15.40        5.133333  \n",
       "5         6.600000               19.20        6.400000  \n",
       "6         3.173333                6.40        2.133333  \n",
       "7         2.560000                4.20        1.400000  \n",
       "8         2.173333                3.60        1.200000  \n",
       "9         2.093333                2.60        0.866667  \n",
       "10        2.040000                2.60        0.866667  \n",
       "11        2.066667                2.40        0.800000  \n",
       "12        2.026667                2.20        0.733333  \n",
       "13        1.986667                2.20        0.733333  \n",
       "14        1.960000                2.00        0.666667  \n",
       "15        1.920000                2.00        0.666667  \n",
       "16        1.893333                1.82        0.606667  \n",
       "17        1.866667                1.74        0.580000  \n",
       "18        1.853333                1.66        0.553333  \n",
       "19        1.853333                1.58        0.526667  "
      ]
     },
     "execution_count": 17,
     "metadata": {},
     "output_type": "execute_result"
    }
   ],
   "source": [
    "pd.DataFrame(df)"
   ]
  },
  {
   "cell_type": "code",
   "execution_count": null,
   "id": "974c1272-b81d-485d-be75-9ed29f97f399",
   "metadata": {},
   "outputs": [],
   "source": []
  }
 ],
 "metadata": {
  "kernelspec": {
   "display_name": "Python 3 (ipykernel)",
   "language": "python",
   "name": "python3"
  },
  "language_info": {
   "codemirror_mode": {
    "name": "ipython",
    "version": 3
   },
   "file_extension": ".py",
   "mimetype": "text/x-python",
   "name": "python",
   "nbconvert_exporter": "python",
   "pygments_lexer": "ipython3",
   "version": "3.10.4"
  }
 },
 "nbformat": 4,
 "nbformat_minor": 5
}
