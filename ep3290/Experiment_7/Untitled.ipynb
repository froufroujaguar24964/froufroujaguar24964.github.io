{
 "cells": [
  {
   "cell_type": "code",
   "execution_count": 30,
   "id": "f3c4ad95-ec24-47ec-9397-f0db3f8d476f",
   "metadata": {},
   "outputs": [
    {
     "name": "stdin",
     "output_type": "stream",
     "text": [
      " 0 0.05 0.1 0.15 0.2 0.25 0.3 0.35 0.4 0.45 0.5 0.55 0.6 0.65 0.7 0.75 0.8 0.85\n"
     ]
    }
   ],
   "source": [
    "p = input()"
   ]
  },
  {
   "cell_type": "code",
   "execution_count": 29,
   "id": "91437de5-caf1-4c96-b9a4-18f6b359a26e",
   "metadata": {},
   "outputs": [
    {
     "name": "stdin",
     "output_type": "stream",
     "text": [
      " -0.12 -0.06 -0.02 0.03 0.09 0.14 0.2 0.23 0.31 0.36 0.4 0.46 0.52 0.56 0.6 0.65 0.71 0.75\n"
     ]
    }
   ],
   "source": [
    "t1 = input()"
   ]
  },
  {
   "cell_type": "code",
   "execution_count": 31,
   "id": "ef61e51b-4651-44f6-9fcd-96c39a51a42e",
   "metadata": {},
   "outputs": [],
   "source": [
    "p = [k for k in p.split()]\n",
    "t1 = [t for t in t1.split()]"
   ]
  },
  {
   "cell_type": "code",
   "execution_count": 32,
   "id": "78147cc5-34f4-4460-9eb4-3aff73c3325b",
   "metadata": {},
   "outputs": [],
   "source": [
    "s = [str(k+1) for k in range(0,len(p))]"
   ]
  },
  {
   "cell_type": "code",
   "execution_count": 33,
   "id": "b1b6ccfe-6d7d-4e1b-b864-03e69435fc88",
   "metadata": {},
   "outputs": [],
   "source": [
    "dat = [s[l]+'&'+p[l]+'&'+t1[l]+'\\\\\\\\' for l in range(0,len(p))]"
   ]
  },
  {
   "cell_type": "code",
   "execution_count": 34,
   "id": "cd4cd205-afcf-4af7-ae55-c04320a555cf",
   "metadata": {},
   "outputs": [
    {
     "name": "stdout",
     "output_type": "stream",
     "text": [
      "1&0&-0.12\\\\\n",
      "2&0.05&-0.06\\\\\n",
      "3&0.1&-0.02\\\\\n",
      "4&0.15&0.03\\\\\n",
      "5&0.2&0.09\\\\\n",
      "6&0.25&0.14\\\\\n",
      "7&0.3&0.2\\\\\n",
      "8&0.35&0.23\\\\\n",
      "9&0.4&0.31\\\\\n",
      "10&0.45&0.36\\\\\n",
      "11&0.5&0.4\\\\\n",
      "12&0.55&0.46\\\\\n",
      "13&0.6&0.52\\\\\n",
      "14&0.65&0.56\\\\\n",
      "15&0.7&0.6\\\\\n",
      "16&0.75&0.65\\\\\n",
      "17&0.8&0.71\\\\\n",
      "18&0.85&0.75\\\\\n"
     ]
    }
   ],
   "source": [
    "for l in dat:\n",
    "    print(l)"
   ]
  },
  {
   "cell_type": "code",
   "execution_count": 36,
   "id": "2194619c-edcd-467c-8707-f9c853f8b445",
   "metadata": {},
   "outputs": [],
   "source": [
    "t1 = [float(k) for k in t1]"
   ]
  },
  {
   "cell_type": "code",
   "execution_count": 37,
   "id": "3676d20e-7209-4785-a2ff-d9e2e22b5d85",
   "metadata": {},
   "outputs": [
    {
     "data": {
      "text/plain": [
       "[-0.12,\n",
       " -0.06,\n",
       " -0.02,\n",
       " 0.03,\n",
       " 0.09,\n",
       " 0.14,\n",
       " 0.2,\n",
       " 0.23,\n",
       " 0.31,\n",
       " 0.36,\n",
       " 0.4,\n",
       " 0.46,\n",
       " 0.52,\n",
       " 0.56,\n",
       " 0.6,\n",
       " 0.65,\n",
       " 0.71,\n",
       " 0.75]"
      ]
     },
     "execution_count": 37,
     "metadata": {},
     "output_type": "execute_result"
    }
   ],
   "source": [
    "t1"
   ]
  },
  {
   "cell_type": "code",
   "execution_count": null,
   "id": "16c39a8e-fc75-4b15-9708-1cbe87659580",
   "metadata": {},
   "outputs": [],
   "source": []
  }
 ],
 "metadata": {
  "kernelspec": {
   "display_name": "Python 3 (ipykernel)",
   "language": "python",
   "name": "python3"
  },
  "language_info": {
   "codemirror_mode": {
    "name": "ipython",
    "version": 3
   },
   "file_extension": ".py",
   "mimetype": "text/x-python",
   "name": "python",
   "nbconvert_exporter": "python",
   "pygments_lexer": "ipython3",
   "version": "3.10.4"
  }
 },
 "nbformat": 4,
 "nbformat_minor": 5
}
