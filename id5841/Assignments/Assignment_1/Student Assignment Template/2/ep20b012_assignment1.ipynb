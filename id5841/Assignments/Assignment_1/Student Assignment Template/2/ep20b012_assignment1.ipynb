{
 "cells": [
  {
   "cell_type": "code",
   "execution_count": 2,
   "id": "e3b3d024-2906-4e66-9976-14db490eaa1e",
   "metadata": {},
   "outputs": [
    {
     "name": "stderr",
     "output_type": "stream",
     "text": [
      "<frozen importlib._bootstrap>:219: RuntimeWarning: scipy._lib.messagestream.MessageStream size changed, may indicate binary incompatibility. Expected 56 from C header, got 64 from PyObject\n"
     ]
    }
   ],
   "source": [
    "import numpy as np\n",
    "\n",
    "# Importing standard Qiskit libraries\n",
    "from qiskit import QuantumCircuit, transpile, Aer, IBMQ\n",
    "from qiskit.tools.jupyter import *\n",
    "from qiskit.visualization import *\n",
    "from ibm_quantum_widgets import *\n",
    "from qiskit.providers.aer import QasmSimulator\n",
    "\n",
    "# Loading your IBM Quantum account(s)\n",
    "provider = IBMQ.load_account()"
   ]
  },
  {
   "cell_type": "code",
   "execution_count": 2,
   "id": "3c88d748-0dbb-4f18-82a7-92550b3733a3",
   "metadata": {},
   "outputs": [],
   "source": [
    "backend = Aer.get_backend('qasm_simulator')"
   ]
  },
  {
   "cell_type": "markdown",
   "id": "88cb9406-5df8-4571-9a40-292892d38d00",
   "metadata": {},
   "source": [
    "<h1>Question 1 a</h1>"
   ]
  },
  {
   "cell_type": "code",
   "execution_count": 14,
   "id": "10f9491f-aa41-4364-bbf6-60c0fd18a6ac",
   "metadata": {},
   "outputs": [],
   "source": [
    "inputs = ['000','001','010','011','100','101','110','111']\n",
    "for i in inputs:\n",
    "    qc1a = QuantumCircuit(3)\n",
    "    qc1a.barrier()\n",
    "    if i[2]=='1':\n",
    "        qc1a.x(0)\n",
    "    if i[1] == '1':\n",
    "        qc1a.x(1)\n",
    "    if i[0] == '1':\n",
    "        qc1a.x(2)\n",
    "    qc1a.cswap(0,1,2)\n",
    "    qc1a.cswap(0,1,2)\n",
    "    qc1a.measure_all()\n",
    "    qc1a.draw('latex').save('1a/1a111.png')\n",
    "    result = backend.run(transpile(qc1a, backend), shots=2048).result()\n",
    "    counts  = result.get_counts(qc1a)\n",
    "    plot_histogram(counts).savefig('1a/1a111-out.png')"
   ]
  },
  {
   "cell_type": "code",
   "execution_count": 11,
   "id": "f41de3d2-345a-4724-a514-861f95c683d6",
   "metadata": {},
   "outputs": [],
   "source": [
    "from IPython.display import  display\n",
    "from PIL import Image"
   ]
  },
  {
   "cell_type": "code",
   "execution_count": 25,
   "id": "e18d1f90-7cea-4535-966a-9d1c3c58a194",
   "metadata": {},
   "outputs": [
    {
     "name": "stdout",
     "output_type": "stream",
     "text": [
      "Traceback \u001b[1;36m(most recent call last)\u001b[0m:\n",
      "  Input \u001b[0;32mIn [25]\u001b[0m in \u001b[0;35m<cell line: 5>\u001b[0m\n",
      "    display(Image.open('id5841-qclab/Assignment-1/1a/1a000.png'))\n",
      "\u001b[1;36m  File \u001b[1;32m/opt/conda/lib/python3.8/site-packages/PIL/Image.py:2953\u001b[1;36m in \u001b[1;35mopen\u001b[1;36m\u001b[0m\n",
      "\u001b[1;33m    fp = builtins.open(filename, \"rb\")\u001b[0m\n",
      "\u001b[1;31mFileNotFoundError\u001b[0m\u001b[1;31m:\u001b[0m [Errno 2] No such file or directory: 'id5841-qclab/Assignment-1/1a/1a000.png'\n",
      "\n",
      "Use %tb to get the full traceback.\n"
     ]
    },
    {
     "data": {
      "text/html": [
       "\n",
       "<style>\n",
       ".button {\n",
       "  border: none;\n",
       "  color: white;\n",
       "  padding: 4px 8px;\n",
       "  text-align: center;\n",
       "  text-decoration: none;\n",
       "  display: inline-block;\n",
       "  font-size: 12px;\n",
       "  margin: 4px 2px;\n",
       "  transition-duration: 0.2s;\n",
       "  cursor: pointer;\n",
       "}\n",
       ".iqx-button {\n",
       "  background-color: #0f62fe; \n",
       "  color: white; \n",
       "}\n",
       ".iqx-button:hover {\n",
       "  background-color: #0043ce;\n",
       "  color: white;\n",
       "}\n",
       "</style>\n",
       "<a href=\"https://stackoverflow.com/search?q=FileNotFoundError: 2\" target='_blank'><button class='button iqx-button'>Search for solution online</button></a>\n"
      ],
      "text/plain": [
       "<IPython.core.display.HTML object>"
      ]
     },
     "metadata": {},
     "output_type": "display_data"
    }
   ],
   "source": [
    "val = ['000','001','010','011','100','101','110','111']\n",
    "lin = []\n",
    "for i in val:\n",
    "    lin+=['id5841-qclab/Assignment-1/1a/1a'+i+'.png']\n",
    "display(Image.open('id5841-qclab/Assignment-1/1a/1a000.png'))\n"
   ]
  },
  {
   "cell_type": "markdown",
   "id": "662c1894-3116-46d6-9c31-13fae55c083b",
   "metadata": {},
   "source": [
    "<h1>Question 1 b (a)</h1>"
   ]
  },
  {
   "cell_type": "code",
   "execution_count": 25,
   "id": "6e3ef58c-47be-4c66-a7c5-97ddfc77c6b2",
   "metadata": {},
   "outputs": [],
   "source": [
    "inputs = ['00','01','10','11']\n",
    "\n",
    "for i in inputs:\n",
    "    qc = QuantumCircuit(2)\n",
    "    if i[0]=='1':\n",
    "        qc.x(1)\n",
    "    if i[1]=='1':\n",
    "        qc.x(0)\n",
    "    qc.barrier()\n",
    "    qc.cx(0,1)\n",
    "    qc.x(0)\n",
    "    qc.cx(0,1)\n",
    "    qc.measure_all()\n",
    "    qc.draw('latex').save(f'1b/a1{i}.png')\n",
    "    result = backend.run(transpile(qc, backend), shots=2048).result()\n",
    "    counts  = result.get_counts(qc)\n",
    "    plot_histogram(counts).savefig(f'1b/a1{i}-out.png')"
   ]
  },
  {
   "cell_type": "code",
   "execution_count": 26,
   "id": "1340bde0-b09d-4ccb-8c9e-e2aea2a8fc1f",
   "metadata": {},
   "outputs": [],
   "source": [
    "inputs = ['00','01','10','11']\n",
    "\n",
    "for i in inputs:\n",
    "    qc = QuantumCircuit(2)\n",
    "    if i[0]=='1':\n",
    "        qc.x(1)\n",
    "    if i[1]=='1':\n",
    "        qc.x(0)\n",
    "    qc.barrier()\n",
    "    qc.x(0)\n",
    "    qc.x(1)\n",
    "    qc.measure_all()\n",
    "    qc.draw('latex').save(f'1b/a2{i}.png')\n",
    "    result = backend.run(transpile(qc, backend), shots=2048).result()\n",
    "    counts  = result.get_counts(qc)\n",
    "    plot_histogram(counts).savefig(f'1b/a2{i}-out.png')"
   ]
  },
  {
   "cell_type": "markdown",
   "id": "80afb1f3-8ba5-4a45-a978-d5835c157fd7",
   "metadata": {},
   "source": [
    "<h1>Question 1 b(b)</h1>"
   ]
  },
  {
   "cell_type": "code",
   "execution_count": 27,
   "id": "ed86cebd-4a7f-4fcd-9d9c-f9d662fc77c8",
   "metadata": {},
   "outputs": [],
   "source": [
    "inputs = ['00','01','10','11']\n",
    "\n",
    "for i in inputs:\n",
    "    qc = QuantumCircuit(2)\n",
    "    if i[0]=='1':\n",
    "        qc.x(1)\n",
    "    if i[1]=='1':\n",
    "        qc.x(0)\n",
    "    qc.barrier()\n",
    "    qc.cx(0,1)\n",
    "    qc.z(0)\n",
    "    qc.cx(0,1)\n",
    "    qc.measure_all()\n",
    "    qc.draw('latex').save(f'1b/b1{i}.png')\n",
    "    result = backend.run(transpile(qc, backend), shots=2048).result()\n",
    "    counts  = result.get_counts(qc)\n",
    "    plot_histogram(counts).savefig(f'1b/b1{i}-out.png')"
   ]
  },
  {
   "cell_type": "code",
   "execution_count": 28,
   "id": "a87dae15-aefe-4cc5-a666-667ce7a80f34",
   "metadata": {},
   "outputs": [],
   "source": [
    "inputs = ['00','01','10','11']\n",
    "\n",
    "for i in inputs:\n",
    "    qc = QuantumCircuit(2)\n",
    "    if i[0]=='1':\n",
    "        qc.x(1)\n",
    "    if i[1]=='1':\n",
    "        qc.x(0)\n",
    "    qc.barrier()\n",
    "    qc.z(0)\n",
    "    qc.measure_all()\n",
    "    qc.draw('latex').save(f'1b/b2{i}.png')\n",
    "    result = backend.run(transpile(qc, backend), shots=2048).result()\n",
    "    counts  = result.get_counts(qc)\n",
    "    plot_histogram(counts).savefig(f'1b/b2{i}-out.png')"
   ]
  },
  {
   "cell_type": "markdown",
   "id": "6ae5b18d-e331-4d6b-a9cc-a8ffa73a64c4",
   "metadata": {},
   "source": [
    "<h1>Question 1 b(c)</h1>"
   ]
  },
  {
   "cell_type": "code",
   "execution_count": 29,
   "id": "e4cc7e95-98e3-452f-93fa-3d4ac59909e1",
   "metadata": {},
   "outputs": [],
   "source": [
    "inputs = ['00','01','10','11']\n",
    "\n",
    "for i in inputs:\n",
    "    qc = QuantumCircuit(2)\n",
    "    if i[0]=='1':\n",
    "        qc.x(1)\n",
    "    if i[1]=='1':\n",
    "        qc.x(0)\n",
    "    qc.barrier()\n",
    "    qc.cx(0,1)\n",
    "    qc.y(1)\n",
    "    qc.cx(0,1)\n",
    "    qc.measure_all()\n",
    "    qc.draw('latex').save(f'1b/c1{i}.png')\n",
    "    result = backend.run(transpile(qc, backend), shots=2048).result()\n",
    "    counts  = result.get_counts(qc)\n",
    "    plot_histogram(counts).savefig(f'1b/c1{i}-out.png')"
   ]
  },
  {
   "cell_type": "code",
   "execution_count": 30,
   "id": "a708150e-cded-454b-a73e-292e70f30f61",
   "metadata": {},
   "outputs": [],
   "source": [
    "inputs = ['00','01','10','11']\n",
    "for i in inputs:\n",
    "    qc = QuantumCircuit(2)\n",
    "    if i[0]=='1':\n",
    "        qc.x(1)\n",
    "    if i[1]=='1':\n",
    "        qc.x(0)\n",
    "    qc.barrier()\n",
    "    \n",
    "    qc.z(0)\n",
    "    qc.y(1)\n",
    "    qc.measure_all()\n",
    "    qc.draw('latex').save(f'1b/c2{i}.png')\n",
    "    result = backend.run(transpile(qc, backend), shots=2048).result()\n",
    "    counts  = result.get_counts(qc)\n",
    "    plot_histogram(counts).savefig(f'1b/c2{i}-out.png')"
   ]
  },
  {
   "cell_type": "markdown",
   "id": "d54d1bf9-8515-4dba-a528-05c76b845e9b",
   "metadata": {},
   "source": [
    "<h1>Question 1 b(d)</h1>"
   ]
  },
  {
   "cell_type": "code",
   "execution_count": 31,
   "id": "1eb7e119-a406-4536-b2a5-5991d368e4f4",
   "metadata": {},
   "outputs": [],
   "source": [
    "inputs = ['00','01','10','11']\n",
    "for i in inputs:\n",
    "    qc = QuantumCircuit(2)\n",
    "    if i[0]=='1':\n",
    "        qc.x(1)\n",
    "    if i[1]=='1':\n",
    "        qc.x(0)\n",
    "    qc.barrier()\n",
    "    qc.cx(0,1)\n",
    "    qc.y(0)\n",
    "    qc.cx(0,1)\n",
    "    qc.measure_all()\n",
    "    qc.draw('latex').save(f'1b/d1{i}.png')\n",
    "    result = backend.run(transpile(qc, backend), shots=2048).result()\n",
    "    counts  = result.get_counts(qc)\n",
    "    plot_histogram(counts).savefig(f'1b/d1{i}-out.png')"
   ]
  },
  {
   "cell_type": "code",
   "execution_count": 32,
   "id": "5aca3250-c8d9-4ba1-bf0a-d1e60b77bb7b",
   "metadata": {},
   "outputs": [],
   "source": [
    "inputs = ['00','01','10','11']\n",
    "for i in inputs:\n",
    "    qc = QuantumCircuit(2)\n",
    "    if i[0]=='1':\n",
    "        qc.x(1)\n",
    "    if i[1]=='1':\n",
    "        qc.x(0)\n",
    "    qc.barrier()\n",
    "    \n",
    "    qc.y(0)\n",
    "    qc.x(1)\n",
    "    qc.measure_all()\n",
    "    qc.draw('latex').save(f'1b/d2{i}.png')\n",
    "    result = backend.run(transpile(qc, backend), shots=2048).result()\n",
    "    counts  = result.get_counts(qc)\n",
    "    plot_histogram(counts).savefig(f'1b/d2{i}-out.png')"
   ]
  },
  {
   "cell_type": "markdown",
   "id": "7f097224-2f5b-4095-9c79-426568220242",
   "metadata": {},
   "source": [
    "<h1>Question 2</h1>"
   ]
  },
  {
   "cell_type": "code",
   "execution_count": null,
   "id": "82116d3d-7bf0-4fbb-9da0-1aa0be6c5b3a",
   "metadata": {},
   "outputs": [],
   "source": [
    "from qiskit_experiments.library import StateTomography"
   ]
  },
  {
   "cell_type": "code",
   "execution_count": null,
   "id": "9c568d2b-c7e7-481e-97eb-e74150d8150b",
   "metadata": {},
   "outputs": [],
   "source": [
    "provider = IBMQ.get_provider(hub='ibm-q', group='open', project='main')\n",
    "backend = provider.get_backend('ibmq_belem')"
   ]
  },
  {
   "cell_type": "code",
   "execution_count": null,
   "id": "a91c19d0-4de0-496c-a522-f19f1d3e0cbc",
   "metadata": {},
   "outputs": [],
   "source": [
    "for N in [3,4,5]:\n",
    "    qc = QuantumCircuit(N)\n",
    "    qc.h(0)\n",
    "    for i in range(1,N):\n",
    "        qc.cx(i-1,i)\n",
    "    qc.measure_all()\n",
    "    qc.draw('latex').save(f'2/ghz-{N}.png')\n",
    "    mapped_circuit = transpile(qc, backend=backend)\n",
    "    qobj = assemble(mapped_circuit, backend=backend, shots=1024)\n",
    "\n",
    "    # execute the circuit\n",
    "    job = backend.run(qobj)\n",
    "    counts = job.result().get_counts(qc)\n",
    "    plot_histogram(counts).savefig(f'2/w-{N}-out.png')"
   ]
  },
  {
   "cell_type": "markdown",
   "id": "551b6970-6c4e-4e11-af37-708e4fe0e2f8",
   "metadata": {},
   "source": [
    "<h2>Question 4</h2>"
   ]
  },
  {
   "cell_type": "code",
   "execution_count": null,
   "id": "02d1457f-9d08-48d6-bc57-d96325ead8ad",
   "metadata": {},
   "outputs": [],
   "source": [
    "N=4\n",
    "qc = QuantumCircuit(N)\n",
    "qc.ry(2*np.arccos(1/np.sqrt(N)),0)\n",
    "for i in range(1,N):\n",
    "    qc.cry(2*np.arccos(1/np.sqrt(N-i)),i-1,i)\n",
    "for i in range(1,N):\n",
    "    qc.cx(N-i-1,N-i)\n",
    "qc.x(0)\n",
    "qc.draw('latex').save(f'4/w-4-state.png')\n",
    "qstexp1 = StateTomography(qc)\n",
    "qstdata1 = qstexp1.run(backend, seed_simulation=1000).block_for_results()"
   ]
  },
  {
   "cell_type": "code",
   "execution_count": null,
   "id": "e1c3f8d5-7b17-4f1d-b2d4-5da7f5213a80",
   "metadata": {},
   "outputs": [],
   "source": [
    "state_result = qstdata1.analysis_results('state')\n",
    "state_result.value.draw('latex')\n",
    "plot_state_city(state_result.value).savefig('4/tomography.png')"
   ]
  },
  {
   "cell_type": "markdown",
   "id": "f7417eb5-a7ad-40e8-84b9-e89e31c8c8d3",
   "metadata": {},
   "source": [
    "<h1>Question 5(a)</h1>"
   ]
  },
  {
   "cell_type": "code",
   "execution_count": 4,
   "id": "68dcc0aa-3c59-497f-a938-d8ee6c258220",
   "metadata": {},
   "outputs": [
    {
     "name": "stdin",
     "output_type": "stream",
     "text": [
      "Please enter no.of Qubits 4\n"
     ]
    },
    {
     "data": {
      "image/png": "[encoded data removed]",
      "text/plain": [
       "<Figure size 658.679x325.08 with 1 Axes>"
      ]
     },
     "execution_count": 4,
     "metadata": {},
     "output_type": "execute_result"
    }
   ],
   "source": [
    "N = int(input('Please enter no.of Qubits'))\n",
    "qc = QuantumCircuit(N)\n",
    "qc.h(0)\n",
    "for i in range(1,N):\n",
    "    qc.cx(i-1,i)\n",
    "qc.measure_all()\n",
    "qc.draw()"
   ]
  },
  {
   "cell_type": "markdown",
   "id": "4f4f2e16-d2da-47c7-8255-fd6546cc1311",
   "metadata": {},
   "source": [
    "<h1>Question 5(b)</h1>"
   ]
  },
  {
   "cell_type": "code",
   "execution_count": 5,
   "id": "78f5bd87-7b9c-4278-9b78-e2801008e44f",
   "metadata": {},
   "outputs": [
    {
     "name": "stdin",
     "output_type": "stream",
     "text": [
      "Please enter no.of Qubits 5\n"
     ]
    },
    {
     "data": {
      "image/png": "[encoded data removed]",
      "text/plain": [
       "<Figure size 688.597x325.08 with 1 Axes>"
      ]
     },
     "execution_count": 5,
     "metadata": {},
     "output_type": "execute_result"
    }
   ],
   "source": [
    "N=int(input('Please enter no.of Qubits'))\n",
    "qc = QuantumCircuit(N)\n",
    "qc.ry(2*np.arccos(1/np.sqrt(N)),0)\n",
    "for i in range(1,N):\n",
    "    qc.cry(2*np.arccos(1/np.sqrt(N-i)),i-1,i)\n",
    "for i in range(1,N):\n",
    "    qc.cx(N-i-1,N-i)\n",
    "qc.x(0)\n",
    "qc.draw()"
   ]
  },
  {
   "cell_type": "code",
   "execution_count": null,
   "id": "db127b58-e388-4118-bfd7-c5f2a18d04c7",
   "metadata": {},
   "outputs": [],
   "source": []
  }
 ],
 "metadata": {
  "kernelspec": {
   "display_name": "Python 3 (ipykernel)",
   "language": "python",
   "name": "python3"
  },
  "language_info": {
   "codemirror_mode": {
    "name": "ipython",
    "version": 3
   },
   "file_extension": ".py",
   "mimetype": "text/x-python",
   "name": "python",
   "nbconvert_exporter": "python",
   "pygments_lexer": "ipython3",
   "version": "3.8.13"
  },
  "widgets": {
   "application/vnd.jupyter.widget-state+json": {
    "state": {
     "03b5ddbe580d43d0aa766a87b4d21112": {
      "model_module": "@jupyter-widgets/base",
      "model_module_version": "1.2.0",
      "model_name": "LayoutModel",
      "state": {
       "grid_area": "right",
       "padding": "0px 0px 0px 0px",
       "width": "70px"
      }
     },
     "07a59e77f8b4416aae836e21140fd417": {
      "model_module": "@jupyter-widgets/controls",
      "model_module_version": "1.5.0",
      "model_name": "ButtonStyleModel",
      "state": {}
     },
     "08f87d07912f4e748940366ed0b5cf78": {
      "model_module": "@jupyter-widgets/controls",
      "model_module_version": "1.5.0",
      "model_name": "HTMLModel",
      "state": {
       "layout": "IPY_MODEL_147fad5332f94f3eae97e40990457c6b",
       "style": "IPY_MODEL_0c2939de64fc499e9f629257e039ee49",
       "value": "<h5>Backend</h5>"
      }
     },
     "0c2939de64fc499e9f629257e039ee49": {
      "model_module": "@jupyter-widgets/controls",
      "model_module_version": "1.5.0",
      "model_name": "DescriptionStyleModel",
      "state": {
       "description_width": ""
      }
     },
     "0d6347157c4245fbad087d0e1fe829ba": {
      "model_module": "@jupyter-widgets/base",
      "model_module_version": "1.2.0",
      "model_name": "LayoutModel",
      "state": {
       "width": "70px"
      }
     },
     "147fad5332f94f3eae97e40990457c6b": {
      "model_module": "@jupyter-widgets/base",
      "model_module_version": "1.2.0",
      "model_name": "LayoutModel",
      "state": {
       "width": "145px"
      }
     },
     "1c7582da56f84de39eadeec76a3aa3c5": {
      "model_module": "@jupyter-widgets/controls",
      "model_module_version": "1.5.0",
      "model_name": "HTMLModel",
      "state": {
       "layout": "IPY_MODEL_0d6347157c4245fbad087d0e1fe829ba",
       "style": "IPY_MODEL_567ba73e54144313a89f695e1441f44d",
       "value": "<h5>Queue</h5>"
      }
     },
     "20570742299a4490b84db8a282955873": {
      "model_module": "@jupyter-widgets/controls",
      "model_module_version": "1.5.0",
      "model_name": "DescriptionStyleModel",
      "state": {
       "description_width": ""
      }
     },
     "2cd7315c4d3b4a028e58a9a603c067bd": {
      "model_module": "@jupyter-widgets/controls",
      "model_module_version": "1.5.0",
      "model_name": "HTMLModel",
      "state": {
       "layout": "IPY_MODEL_f20d4f62c7c84b14b719ae30055b6344",
       "style": "IPY_MODEL_e709b2c69cd34020b89a65714f6b1831",
       "value": "<p style='font-family: IBM Plex Sans, Arial, Helvetica, sans-serif; font-size: 20px; font-weight: medium;'>Circuit Properties</p>"
      }
     },
     "3dc599f569a54f16a0d93c3a5b4e5be2": {
      "model_module": "@jupyter-widgets/base",
      "model_module_version": "1.2.0",
      "model_name": "LayoutModel",
      "state": {
       "width": "95px"
      }
     },
     "4102150e78934665a2c04bba77edc8a2": {
      "model_module": "@jupyter-widgets/controls",
      "model_module_version": "1.5.0",
      "model_name": "ButtonModel",
      "state": {
       "button_style": "primary",
       "description": "Clear",
       "layout": "IPY_MODEL_03b5ddbe580d43d0aa766a87b4d21112",
       "style": "IPY_MODEL_07a59e77f8b4416aae836e21140fd417"
      }
     },
     "41f8655eb5f94d7ab53e1be4dec8e389": {
      "model_module": "@jupyter-widgets/base",
      "model_module_version": "1.2.0",
      "model_name": "LayoutModel",
      "state": {}
     },
     "54297ae9d2e54834812ce851bf1b3768": {
      "model_module": "@jupyter-widgets/base",
      "model_module_version": "1.2.0",
      "model_name": "LayoutModel",
      "state": {
       "margin": "0px 0px 0px 37px",
       "width": "600px"
      }
     },
     "54879f84aac64bd68906ad97dd6332ba": {
      "model_module": "@jupyter-widgets/controls",
      "model_module_version": "1.5.0",
      "model_name": "HTMLModel",
      "state": {
       "layout": "IPY_MODEL_3dc599f569a54f16a0d93c3a5b4e5be2",
       "style": "IPY_MODEL_20570742299a4490b84db8a282955873",
       "value": "<h5>Status</h5>"
      }
     },
     "567ba73e54144313a89f695e1441f44d": {
      "model_module": "@jupyter-widgets/controls",
      "model_module_version": "1.5.0",
      "model_name": "DescriptionStyleModel",
      "state": {
       "description_width": ""
      }
     },
     "6244bd4cdf7044959e9a7ab93d0947ce": {
      "model_module": "@jupyter-widgets/controls",
      "model_module_version": "1.5.0",
      "model_name": "HBoxModel",
      "state": {
       "children": [
        "IPY_MODEL_c5de0db02f0c41ebb4ea6880d178e552",
        "IPY_MODEL_08f87d07912f4e748940366ed0b5cf78",
        "IPY_MODEL_54879f84aac64bd68906ad97dd6332ba",
        "IPY_MODEL_1c7582da56f84de39eadeec76a3aa3c5",
        "IPY_MODEL_73b60a3cb2a1403686be751ee4149e00"
       ],
       "layout": "IPY_MODEL_54297ae9d2e54834812ce851bf1b3768"
      }
     },
     "6b6cb108f585495b882fc5da8cdb8629": {
      "model_module": "@jupyter-widgets/controls",
      "model_module_version": "1.5.0",
      "model_name": "DescriptionStyleModel",
      "state": {
       "description_width": ""
      }
     },
     "7215ddf617044ab58b0a5f323f2b9217": {
      "model_module": "@jupyter-widgets/base",
      "model_module_version": "1.2.0",
      "model_name": "LayoutModel",
      "state": {
       "width": "190px"
      }
     },
     "73b60a3cb2a1403686be751ee4149e00": {
      "model_module": "@jupyter-widgets/controls",
      "model_module_version": "1.5.0",
      "model_name": "HTMLModel",
      "state": {
       "layout": "IPY_MODEL_41f8655eb5f94d7ab53e1be4dec8e389",
       "style": "IPY_MODEL_bb4965872caf4ddba4df0f159336fd18",
       "value": "<h5>Message</h5>"
      }
     },
     "aab34f8fb0e54903af5e44f70981da09": {
      "model_module": "@jupyter-widgets/base",
      "model_module_version": "1.2.0",
      "model_name": "LayoutModel",
      "state": {
       "grid_template_areas": "\n                                       \". . . . right \"\n                                        ",
       "grid_template_columns": "20% 20% 20% 20% 20%",
       "width": "100%"
      }
     },
     "ad705a7b341847c8bf13ec2b029e389c": {
      "model_module": "@jupyter-widgets/controls",
      "model_module_version": "1.5.0",
      "model_name": "GridBoxModel",
      "state": {
       "children": [
        "IPY_MODEL_4102150e78934665a2c04bba77edc8a2"
       ],
       "layout": "IPY_MODEL_aab34f8fb0e54903af5e44f70981da09"
      }
     },
     "bb4965872caf4ddba4df0f159336fd18": {
      "model_module": "@jupyter-widgets/controls",
      "model_module_version": "1.5.0",
      "model_name": "DescriptionStyleModel",
      "state": {
       "description_width": ""
      }
     },
     "c5de0db02f0c41ebb4ea6880d178e552": {
      "model_module": "@jupyter-widgets/controls",
      "model_module_version": "1.5.0",
      "model_name": "HTMLModel",
      "state": {
       "layout": "IPY_MODEL_7215ddf617044ab58b0a5f323f2b9217",
       "style": "IPY_MODEL_6b6cb108f585495b882fc5da8cdb8629",
       "value": "<h5>Job ID</h5>"
      }
     },
     "e709b2c69cd34020b89a65714f6b1831": {
      "model_module": "@jupyter-widgets/controls",
      "model_module_version": "1.5.0",
      "model_name": "DescriptionStyleModel",
      "state": {
       "description_width": ""
      }
     },
     "f20d4f62c7c84b14b719ae30055b6344": {
      "model_module": "@jupyter-widgets/base",
      "model_module_version": "1.2.0",
      "model_name": "LayoutModel",
      "state": {
       "margin": "0px 0px 10px 0px"
      }
     }
    },
    "version_major": 2,
    "version_minor": 0
   }
  }
 },
 "nbformat": 4,
 "nbformat_minor": 5
}
