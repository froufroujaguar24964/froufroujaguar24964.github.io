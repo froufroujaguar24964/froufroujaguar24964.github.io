{
 "cells": [
  {
   "cell_type": "code",
   "execution_count": 41,
   "id": "c5c7560f-e74c-40a7-a3cb-d9a82df963c8",
   "metadata": {},
   "outputs": [
    {
     "name": "stdin",
     "output_type": "stream",
     "text": [
      " 0 0.5 1 1.5 2 2.5 3 3.5 4 4.5 5 5.5 6 6.5 7 7.5 8 8.5 9 9.5 10 10.5 11 11.5 12 12.5 13 13.5 14 14.5 15 15.5 16\n",
      " 0 0 -0.01 -0.01 -0.02 -0.03 -0.04 -0.05 -0.06 -0.07 -0.08 -0.09 -0.1 -0.1 -0.11 -0.12 -0.13 -0.14 -0.15 -0.16 -0.17 -0.18 -0.19 -0.2 -0.2 -0.21 -0.22 -0.23 -0.24 -0.25 -0.26 -0.27 -0.28\n"
     ]
    },
    {
     "name": "stdout",
     "output_type": "stream",
     "text": [
      "1&0&0\\\\\n",
      "2&0.5&0\\\\\n",
      "3&1&-0.01\\\\\n",
      "4&1.5&-0.01\\\\\n",
      "5&2&-0.02\\\\\n",
      "6&2.5&-0.03\\\\\n",
      "7&3&-0.04\\\\\n",
      "8&3.5&-0.05\\\\\n",
      "9&4&-0.06\\\\\n",
      "10&4.5&-0.07\\\\\n",
      "11&5&-0.08\\\\\n",
      "12&5.5&-0.09\\\\\n",
      "13&6&-0.1\\\\\n",
      "14&6.5&-0.1\\\\\n",
      "15&7&-0.11\\\\\n",
      "16&7.5&-0.12\\\\\n",
      "17&8&-0.13\\\\\n",
      "18&8.5&-0.14\\\\\n",
      "19&9&-0.15\\\\\n",
      "20&9.5&-0.16\\\\\n",
      "21&10&-0.17\\\\\n",
      "22&10.5&-0.18\\\\\n",
      "23&11&-0.19\\\\\n",
      "24&11.5&-0.2\\\\\n",
      "25&12&-0.2\\\\\n",
      "26&12.5&-0.21\\\\\n",
      "27&13&-0.22\\\\\n",
      "28&13.5&-0.23\\\\\n",
      "29&14&-0.24\\\\\n",
      "30&14.5&-0.25\\\\\n",
      "31&15&-0.26\\\\\n",
      "32&15.5&-0.27\\\\\n",
      "33&16&-0.28\\\\\n"
     ]
    }
   ],
   "source": [
    "v = input()\n",
    "\n",
    "v = v.split()\n",
    "\n",
    "v = [i+'&' for i in v]\n",
    "\n",
    "c = input()\n",
    "\n",
    "c = c.split()\n",
    "d\n",
    "c = [j +'\\\\\\\\' for j in c]\n",
    "n = [str(i+1)+'&' for i in range(0,len(v))]\n",
    "\n",
    "d = [n[k]+v[k]+c[k] for k in range(0,len(v))]\n",
    "\n",
    "for m in d:\n",
    "    print(m)"
   ]
  },
  {
   "cell_type": "code",
   "execution_count": 72,
   "id": "7439940e-9d44-445e-bc44-5b3fd51124c7",
   "metadata": {},
   "outputs": [
    {
     "name": "stdin",
     "output_type": "stream",
     "text": [
      " -0.1 -0.08 -0.07 -0.05 -0.04 -0.02 -0.01 -0.01 -0.01 -0.01 -0.02 -0.03 -0.04 -0.05 -0.06 -0.07 -0.07 -0.07 -0.06\n",
      " -0.1 -0.08 -0.07 -0.05 -0.03 -0.02 -0.02 -0.02 -0.04 -0.05 -0.06 -0.08 -0.1 -0.11 -0.13 -0.15 -0.16 -0.15 -0.13\n",
      " -0.16 -0.13 -0.11 -0.09 -0.09 -0.09 -0.08 -0.08 -0.11 -0.13 -0.17 -0.22 -0.26 -0.3 -0.35 -0.39 -0.4 -0.39 -0.36\n"
     ]
    }
   ],
   "source": [
    "deg = [str(i) for i in range(0,190,10)]\n",
    "sno = [str(i) for i in range(0,len(deg))]\n",
    "c1  = input().split()\n",
    "c2  = input().split()\n",
    "c3  = input().split()\n",
    "dat = [sno[k]+'&'+deg[k]+'&'+c1[k]+'&'+c2[k]+'&'+c3[k]+'\\\\\\\\' for k in range(0,len(deg))]"
   ]
  },
  {
   "cell_type": "code",
   "execution_count": 52,
   "id": "fbfce872-2328-4c88-a7fa-f1f686816e51",
   "metadata": {},
   "outputs": [
    {
     "name": "stdout",
     "output_type": "stream",
     "text": [
      "0&0&-0.1&-0.1&-0.16\\\\\n",
      "1&10&-0.08&-0.08&-0.13\\\\\n",
      "2&20&-0.07&-0.07&-0.11\\\\\n",
      "3&30&-0.05&-0.05&-0.09\\\\\n",
      "4&40&-0.04&-0.03&-0.09\\\\\n",
      "5&50&-0.02&-0.02&-0.09\\\\\n",
      "6&60&-0.01&-0.02&-0.08\\\\\n",
      "7&70&-0.01&-0.02&-0.08\\\\\n",
      "8&80&-0.01&-0.04&-0.11\\\\\n",
      "9&90&-0.01&-0.05&-0.13\\\\\n",
      "10&100&-0.02&-0.06&-0.17\\\\\n",
      "11&110&-0.03&-0.08&-0.22\\\\\n",
      "12&120&-0.04&-0.1&-0.26\\\\\n",
      "13&130&-0.05&-0.11&-0.3\\\\\n",
      "14&140&-0.06&-0.13&-0.35\\\\\n",
      "15&150&-0.07&-0.15&-0.39\\\\\n",
      "16&160&-0.07&-0.16&-0.4\\\\\n",
      "17&170&-0.07&-0.15&-0.39\\\\\n",
      "18&180&-0.06&-0.13&-0.36\\\\\n"
     ]
    }
   ],
   "source": [
    "for k in dat:\n",
    "    print(k)"
   ]
  },
  {
   "cell_type": "code",
   "execution_count": 68,
   "id": "ec96af26-6fd8-46e7-8a9b-db6870e6fd7b",
   "metadata": {},
   "outputs": [
    {
     "name": "stdin",
     "output_type": "stream",
     "text": [
      " 0 0.5 1 1.5 2 2.5 3 3.5 4 4.5 5 5.5 6 6.5 7 7.5 8 8.5 9 9.5 10 10.5 11 11.5 12 12.5 13 13.5 14 14.5 15 15.5 16\n"
     ]
    },
    {
     "data": {
      "text/plain": [
       "[0.0,\n",
       " 0.5,\n",
       " 1.0,\n",
       " 1.5,\n",
       " 2.0,\n",
       " 2.5,\n",
       " 3.0,\n",
       " 3.5,\n",
       " 4.0,\n",
       " 4.5,\n",
       " 5.0,\n",
       " 5.5,\n",
       " 6.0,\n",
       " 6.5,\n",
       " 7.0,\n",
       " 7.5,\n",
       " 8.0,\n",
       " 8.5,\n",
       " 9.0,\n",
       " 9.5,\n",
       " 10.0,\n",
       " 10.5,\n",
       " 11.0,\n",
       " 11.5,\n",
       " 12.0,\n",
       " 12.5,\n",
       " 13.0,\n",
       " 13.5,\n",
       " 14.0,\n",
       " 14.5,\n",
       " 15.0,\n",
       " 15.5,\n",
       " 16.0]"
      ]
     },
     "execution_count": 68,
     "metadata": {},
     "output_type": "execute_result"
    }
   ],
   "source": [
    "v = input()\n",
    "\n",
    "v = v.split()\n",
    "\n",
    "v = [float(i) for i in v]\n"
   ]
  },
  {
   "cell_type": "code",
   "execution_count": 61,
   "id": "b9fa6ec3-c21a-445e-84f0-e9ced7dcbad2",
   "metadata": {},
   "outputs": [
    {
     "name": "stdin",
     "output_type": "stream",
     "text": [
      " 0 0 -0.01 -0.02 -0.03 -0.04 -0.05 -0.06 -0.07 -0.08 -0.09 -0.1 -0.11 -0.12 -0.13 -0.14 -0.15 -0.17 -0.18 -0.19 -0.2 -0.22 -0.23 -0.24 -0.25 -0.26 -0.27 -0.28 -0.29 -0.3 -0.31 -0.32 -0.33\n",
      " 0 0 0 -0.01 -0.02 -0.03 -0.03 -0.04 -0.05 -0.06 -0.06 -0.07 -0.08 -0.09 -0.1 -0.1 -0.11 -0.12 -0.13 -0.14 -0.14 -0.15 -0.16 -0.17 -0.18 -0.18 -0.19 -0.2 -0.2 -0.21 -0.22 -0.23 -0.24\n",
      " 0 0 -0.01 -0.01 -0.02 -0.03 -0.04 -0.05 -0.06 -0.07 -0.08 -0.09 -0.1 -0.1 -0.11 -0.12 -0.13 -0.14 -0.15 -0.16 -0.17 -0.18 -0.19 -0.2 -0.2 -0.21 -0.22 -0.23 -0.24 -0.25 -0.26 -0.27 -0.28\n"
     ]
    }
   ],
   "source": [
    "c1 = input().split()\n",
    "c1 = [-float(i) for i in c1]\n",
    "c2 = input().split()\n",
    "c2 = [-float(i) for i in c2]\n",
    "c3 = input().split()\n",
    "c3 = [-float(i) for i in c3]"
   ]
  },
  {
   "cell_type": "code",
   "execution_count": 67,
   "id": "902fb7a0-f34b-483b-9f49-4202a8e9a17e",
   "metadata": {},
   "outputs": [
    {
     "data": {
      "image/png": "[encoded data removed]",
      "text/plain": [
       "<Figure size 432x288 with 1 Axes>"
      ]
     },
     "metadata": {
      "needs_background": "light"
     },
     "output_type": "display_data"
    }
   ],
   "source": [
    "import matplotlib.pyplot as plt\n",
    "import numpy as np\n",
    "\n",
    "\n",
    "plt.plot(v,c1,'-.')\n",
    "plt.plot(v,c2,'-s')\n",
    "plt.plot(v,c3,'-x')\n",
    "plt.xlabel('Voltage(V)')\n",
    "plt.ylabel('Current(mA)')\n",
    "plt.legend(['$15^{\\circ}$','$45^{\\circ}$','$75^{\\circ}$'])\n",
    "plt.show()"
   ]
  },
  {
   "cell_type": "code",
   "execution_count": null,
   "id": "120e3e8d-d593-404b-8606-30b2d28cdf33",
   "metadata": {},
   "outputs": [],
   "source": [
    "import matplotlib.pyplot as plt\n",
    "import numpy as np\n",
    "\n",
    "\n",
    "plt.plot(v,c1,'-.')\n",
    "plt.plot(v,c2,'-s')\n",
    "plt.plot(v,c3,'-x')\n",
    "plt.xlabel('Voltage(V)')\n",
    "plt.ylabel('Current(mA)')\n",
    "plt.legend(['$15^{\\circ}$','$45^{\\circ}$','$75^{\\circ}$'])\n",
    "plt.show()"
   ]
  },
  {
   "cell_type": "code",
   "execution_count": 80,
   "id": "c6e2296c-6c92-4786-b3af-855a63b44cd2",
   "metadata": {},
   "outputs": [],
   "source": [
    "c1 = [float(i) for i in c1]"
   ]
  },
  {
   "cell_type": "code",
   "execution_count": 81,
   "id": "c1d7d6fd-552a-4130-8cd9-9a0d319f307a",
   "metadata": {},
   "outputs": [
    {
     "data": {
      "text/plain": [
       "[-0.1,\n",
       " -0.08,\n",
       " -0.07,\n",
       " -0.05,\n",
       " -0.04,\n",
       " -0.02,\n",
       " -0.01,\n",
       " -0.01,\n",
       " -0.01,\n",
       " -0.01,\n",
       " -0.02,\n",
       " -0.03,\n",
       " -0.04,\n",
       " -0.05,\n",
       " -0.06,\n",
       " -0.07,\n",
       " -0.07,\n",
       " -0.07,\n",
       " -0.06]"
      ]
     },
     "execution_count": 81,
     "metadata": {},
     "output_type": "execute_result"
    }
   ],
   "source": [
    "c1"
   ]
  },
  {
   "cell_type": "code",
   "execution_count": null,
   "id": "51c89c20-aae3-4f8d-bdf6-cfedae9a352a",
   "metadata": {},
   "outputs": [],
   "source": []
  }
 ],
 "metadata": {
  "kernelspec": {
   "display_name": "Python 3 (ipykernel)",
   "language": "python",
   "name": "python3"
  },
  "language_info": {
   "codemirror_mode": {
    "name": "ipython",
    "version": 3
   },
   "file_extension": ".py",
   "mimetype": "text/x-python",
   "name": "python",
   "nbconvert_exporter": "python",
   "pygments_lexer": "ipython3",
   "version": "3.10.4"
  }
 },
 "nbformat": 4,
 "nbformat_minor": 5
}
